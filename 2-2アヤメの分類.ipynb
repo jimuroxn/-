{
 "cells": [
  {
   "cell_type": "code",
   "execution_count": 5,
   "id": "8dfbf9f5",
   "metadata": {},
   "outputs": [
    {
     "name": "stdout",
     "output_type": "stream",
     "text": [
      "正解率 =  0.9333333333333333\n"
     ]
    }
   ],
   "source": [
    "import pandas as pd\n",
    "from sklearn.model_selection import train_test_split\n",
    "from sklearn.svm import SVC\n",
    "from sklearn.metrics import accuracy_score\n",
    "\n",
    "#アヤメデータの読み込み  Pandas read_csv\n",
    "iris_data = pd.read_csv(\"iris-dataset.csv\",encoding = \"utf-8\")\n",
    "# .csvまで含める\n",
    "\n",
    "#アヤメデータをラベルと入力データに分離する Pandas loc　これは列による分離 \n",
    "y = iris_data.loc[:,\"species\"]\n",
    "x = iris_data.loc[:,[\"sepal_length\",\"sepal_width\",\"petal_length\",\"petal_width\"]]\n",
    "#元のデータの名前の行と列\n",
    "\n",
    "#学習用とテスト用に分離する scikit-learn　train_test_split() これは行による分離\n",
    "x_train,x_test,y_train,y_test = train_test_split(x,y,test_size = 0.2,train_size = 0.8,shuffle = True)\n",
    "#shuffle はデフォルトがTrue なのでなくてもいい\n",
    "\n",
    "#学習する　scikit-learn fit() 学習用と結果用の配列データを指定すると学習できる\n",
    "clf = SVC()\n",
    "clf.fit(x_train,y_train)\n",
    "\n",
    "#評価する scikit-learn  predict  テストデータの配列を指定すると、予測結果を返してくれる\n",
    "y_pred = clf.predict(x_test)\n",
    "print(\"正解率 = \",accuracy_score(y_test,y_pred))\n",
    "#正解率の計算は scikit-learn accuracy_score()正しい結果と予測結果を指定すると正解率を返す"
   ]
  },
  {
   "cell_type": "code",
   "execution_count": null,
   "id": "c15570cd",
   "metadata": {},
   "outputs": [],
   "source": []
  }
 ],
 "metadata": {
  "kernelspec": {
   "display_name": "Python 3 (ipykernel)",
   "language": "python",
   "name": "python3"
  },
  "language_info": {
   "codemirror_mode": {
    "name": "ipython",
    "version": 3
   },
   "file_extension": ".py",
   "mimetype": "text/x-python",
   "name": "python",
   "nbconvert_exporter": "python",
   "pygments_lexer": "ipython3",
   "version": "3.10.9"
  }
 },
 "nbformat": 4,
 "nbformat_minor": 5
}
